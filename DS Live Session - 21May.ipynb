{
 "cells": [
  {
   "cell_type": "code",
   "execution_count": 1,
   "id": "177fc3ac",
   "metadata": {},
   "outputs": [
    {
     "name": "stderr",
     "output_type": "stream",
     "text": [
      "Matplotlib is building the font cache; this may take a moment.\n"
     ]
    }
   ],
   "source": [
    "#importing the required python libraries\n",
    "import numpy as np\n",
    "import pandas as pd\n",
    "import matplotlib.pyplot as plt"
   ]
  },
  {
   "cell_type": "markdown",
   "id": "7d8eeaf9",
   "metadata": {},
   "source": [
    "### Creating a DataFrame"
   ]
  },
  {
   "cell_type": "code",
   "execution_count": 3,
   "id": "45cff2d3",
   "metadata": {},
   "outputs": [
    {
     "data": {
      "text/plain": [
       "['Blue',\n",
       " 'Winter',\n",
       " 'Summer',\n",
       " 'Luke',\n",
       " 'Bingo',\n",
       " 'Sock',\n",
       " 'Pepper',\n",
       " 'Black',\n",
       " 'Muse',\n",
       " 'Bailey',\n",
       " 'Charlie',\n",
       " 'Bear',\n",
       " 'Buddy',\n",
       " 'Beethoven',\n",
       " 'Max',\n",
       " 'Duke',\n",
       " 'Daisy',\n",
       " 'Rain',\n",
       " 'Bella',\n",
       " 'Tangerine']"
      ]
     },
     "execution_count": 3,
     "metadata": {},
     "output_type": "execute_result"
    }
   ],
   "source": [
    "dog_names = ['Blue', 'Winter','Summer', 'Luke','Bingo', 'Sock','Pepper', 'Black', 'Muse', 'Bailey', 'Charlie', 'Bear', 'Buddy','Beethoven','Max','Duke', 'Daisy', 'Rain', 'Bella', 'Tangerine']\n",
    "dog_names"
   ]
  },
  {
   "cell_type": "code",
   "execution_count": 4,
   "id": "e4410414",
   "metadata": {},
   "outputs": [
    {
     "data": {
      "text/plain": [
       "array([30, 47, 41, 64, 37, 50, 45, 57, 64, 42, 67, 31, 39, 41, 69, 66, 49,\n",
       "       43, 34, 61])"
      ]
     },
     "execution_count": 4,
     "metadata": {},
     "output_type": "execute_result"
    }
   ],
   "source": [
    "dog_weight = np.random.randint(30, 70, len(dog_names))\n",
    "dog_weight"
   ]
  },
  {
   "cell_type": "code",
   "execution_count": 7,
   "id": "393c3b0a",
   "metadata": {},
   "outputs": [
    {
     "data": {
      "text/html": [
       "<div>\n",
       "<style scoped>\n",
       "    .dataframe tbody tr th:only-of-type {\n",
       "        vertical-align: middle;\n",
       "    }\n",
       "\n",
       "    .dataframe tbody tr th {\n",
       "        vertical-align: top;\n",
       "    }\n",
       "\n",
       "    .dataframe thead th {\n",
       "        text-align: right;\n",
       "    }\n",
       "</style>\n",
       "<table border=\"1\" class=\"dataframe\">\n",
       "  <thead>\n",
       "    <tr style=\"text-align: right;\">\n",
       "      <th></th>\n",
       "      <th>name</th>\n",
       "      <th>weight</th>\n",
       "    </tr>\n",
       "  </thead>\n",
       "  <tbody>\n",
       "    <tr>\n",
       "      <th>0</th>\n",
       "      <td>Blue</td>\n",
       "      <td>30</td>\n",
       "    </tr>\n",
       "    <tr>\n",
       "      <th>1</th>\n",
       "      <td>Winter</td>\n",
       "      <td>47</td>\n",
       "    </tr>\n",
       "    <tr>\n",
       "      <th>2</th>\n",
       "      <td>Summer</td>\n",
       "      <td>41</td>\n",
       "    </tr>\n",
       "    <tr>\n",
       "      <th>3</th>\n",
       "      <td>Luke</td>\n",
       "      <td>64</td>\n",
       "    </tr>\n",
       "    <tr>\n",
       "      <th>4</th>\n",
       "      <td>Bingo</td>\n",
       "      <td>37</td>\n",
       "    </tr>\n",
       "    <tr>\n",
       "      <th>5</th>\n",
       "      <td>Sock</td>\n",
       "      <td>50</td>\n",
       "    </tr>\n",
       "    <tr>\n",
       "      <th>6</th>\n",
       "      <td>Pepper</td>\n",
       "      <td>45</td>\n",
       "    </tr>\n",
       "    <tr>\n",
       "      <th>7</th>\n",
       "      <td>Black</td>\n",
       "      <td>57</td>\n",
       "    </tr>\n",
       "    <tr>\n",
       "      <th>8</th>\n",
       "      <td>Muse</td>\n",
       "      <td>64</td>\n",
       "    </tr>\n",
       "    <tr>\n",
       "      <th>9</th>\n",
       "      <td>Bailey</td>\n",
       "      <td>42</td>\n",
       "    </tr>\n",
       "    <tr>\n",
       "      <th>10</th>\n",
       "      <td>Charlie</td>\n",
       "      <td>67</td>\n",
       "    </tr>\n",
       "    <tr>\n",
       "      <th>11</th>\n",
       "      <td>Bear</td>\n",
       "      <td>31</td>\n",
       "    </tr>\n",
       "    <tr>\n",
       "      <th>12</th>\n",
       "      <td>Buddy</td>\n",
       "      <td>39</td>\n",
       "    </tr>\n",
       "    <tr>\n",
       "      <th>13</th>\n",
       "      <td>Beethoven</td>\n",
       "      <td>41</td>\n",
       "    </tr>\n",
       "    <tr>\n",
       "      <th>14</th>\n",
       "      <td>Max</td>\n",
       "      <td>69</td>\n",
       "    </tr>\n",
       "    <tr>\n",
       "      <th>15</th>\n",
       "      <td>Duke</td>\n",
       "      <td>66</td>\n",
       "    </tr>\n",
       "    <tr>\n",
       "      <th>16</th>\n",
       "      <td>Daisy</td>\n",
       "      <td>49</td>\n",
       "    </tr>\n",
       "    <tr>\n",
       "      <th>17</th>\n",
       "      <td>Rain</td>\n",
       "      <td>43</td>\n",
       "    </tr>\n",
       "    <tr>\n",
       "      <th>18</th>\n",
       "      <td>Bella</td>\n",
       "      <td>34</td>\n",
       "    </tr>\n",
       "    <tr>\n",
       "      <th>19</th>\n",
       "      <td>Tangerine</td>\n",
       "      <td>61</td>\n",
       "    </tr>\n",
       "  </tbody>\n",
       "</table>\n",
       "</div>"
      ],
      "text/plain": [
       "         name  weight\n",
       "0        Blue      30\n",
       "1      Winter      47\n",
       "2      Summer      41\n",
       "3        Luke      64\n",
       "4       Bingo      37\n",
       "5        Sock      50\n",
       "6      Pepper      45\n",
       "7       Black      57\n",
       "8        Muse      64\n",
       "9      Bailey      42\n",
       "10    Charlie      67\n",
       "11       Bear      31\n",
       "12      Buddy      39\n",
       "13  Beethoven      41\n",
       "14        Max      69\n",
       "15       Duke      66\n",
       "16      Daisy      49\n",
       "17       Rain      43\n",
       "18      Bella      34\n",
       "19  Tangerine      61"
      ]
     },
     "execution_count": 7,
     "metadata": {},
     "output_type": "execute_result"
    }
   ],
   "source": [
    "dog_df = pd.DataFrame(data={'name':dog_names,'weight':dog_weight})\n",
    "dog_df"
   ]
  },
  {
   "cell_type": "code",
   "execution_count": 21,
   "id": "2e89f03f",
   "metadata": {},
   "outputs": [
    {
     "data": {
      "image/png": "[encoded data removed]",
      "text/plain": [
       "<Figure size 432x288 with 1 Axes>"
      ]
     },
     "metadata": {
      "needs_background": "light"
     },
     "output_type": "display_data"
    }
   ],
   "source": [
    "#visualizing the weight distribution\n",
    "plt.hist(dog_df['weight'], bins=10)\n",
    "plt.xlabel('Dog Weight')\n",
    "plt.ylabel('Count')\n",
    "plt.title('Dog weight distribution')\n",
    "plt.show()"
   ]
  },
  {
   "cell_type": "code",
   "execution_count": null,
   "id": "e139a301",
   "metadata": {},
   "outputs": [],
   "source": []
  }
 ],
 "metadata": {
  "kernelspec": {
   "display_name": "Python 3 (ipykernel)",
   "language": "python",
   "name": "python3"
  },
  "language_info": {
   "codemirror_mode": {
    "name": "ipython",
    "version": 3
   },
   "file_extension": ".py",
   "mimetype": "text/x-python",
   "name": "python",
   "nbconvert_exporter": "python",
   "pygments_lexer": "ipython3",
   "version": "3.9.7"
  }
 },
 "nbformat": 4,
 "nbformat_minor": 5
}
